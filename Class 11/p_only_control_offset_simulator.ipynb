{
 "cells": [
  {
   "cell_type": "code",
   "execution_count": 3,
   "metadata": {},
   "outputs": [],
   "source": [
    "import numpy as np\n",
    "%matplotlib inline\n",
    "import matplotlib.pyplot as plt\n",
    "from scipy.integrate import odeint\n",
    "import ipywidgets as wg\n",
    "from IPython.display import display"
   ]
  },
  {
   "cell_type": "code",
   "execution_count": 4,
   "metadata": {},
   "outputs": [
    {
     "data": {
      "application/vnd.jupyter.widget-view+json": {
       "model_id": "3c6238bb91fa42cfa50fedfd7ccabf36",
       "version_major": 2,
       "version_minor": 0
      },
      "text/plain": [
       "interactive(children=(FloatSlider(value=2.0, description='Kc', max=15.0), Output()), _dom_classes=('widget-int…"
      ]
     },
     "metadata": {},
     "output_type": "display_data"
    },
    {
     "name": "stdout",
     "output_type": "stream",
     "text": [
      "P-only Simulator: Adjust Kc and Calculate Offset\n"
     ]
    }
   ],
   "source": [
    "n = 601 # time points to plot\n",
    "tf = 600.0 # final time\n",
    "\n",
    "# TCLab FOPDT\n",
    "Kp = 0.682\n",
    "taup = 147.268\n",
    "thetap = 22.517\n",
    "\n",
    "def process(y,t,u):\n",
    "    dydt = (1.0/taup) * (-(y-23.0) + Kp * u)\n",
    "    return dydt\n",
    "\n",
    "def pidPlot(Kc):\n",
    "    t = np.linspace(0,tf,n) # create time vector\n",
    "    P = np.zeros(n)         # initialize proportional term\n",
    "    e = np.zeros(n)         # initialize error\n",
    "    OP = np.zeros(n)        # initialize controller output\n",
    "    PV = np.ones(n)*23.0    # initialize process variable\n",
    "    SP = np.ones(n)*23.0    # initialize setpoint\n",
    "    SP[10:] = 60.0          # step up\n",
    "    y0 = 23.0               # initial condition\n",
    "    iae = 0.0\n",
    "    # loop through all time steps\n",
    "    for i in range(1,n):\n",
    "        # simulate process for one time step\n",
    "        ts = [t[i-1],t[i]]         # time interval\n",
    "        y = odeint(process,y0,ts,args=(OP[max(0,i-1-int(thetap))],))\n",
    "        y0 = y[1]                  # record new initial condition\n",
    "        iae += np.abs(SP[i]-y0[0])\n",
    "        # calculate new OP with PID\n",
    "        PV[i] = y[1]               # record PV\n",
    "        e[i] = SP[i] - PV[i]       # calculate error = SP - PV\n",
    "        dt = t[i] - t[i-1]         # calculate time step\n",
    "        P[i] = Kc * e[i]           # calculate proportional term\n",
    "        OP[i] = P[i]               # calculate new controller output\n",
    "        if OP[i]>=100:\n",
    "            OP[i] = 100.0\n",
    "        if OP[i]<=0:\n",
    "            OP[i] = 0.0\n",
    "\n",
    "    # plot PID response\n",
    "    plt.figure(1,figsize=(15,7))\n",
    "    plt.subplot(2,2,1)\n",
    "    plt.plot(t,SP,'k-',linewidth=2,label='Setpoint (SP)')\n",
    "    plt.plot(t,PV,'r:',linewidth=2,label='Temperature (PV)')\n",
    "    plt.ylabel(r'T $(^oC)$')\n",
    "    plt.text(200,30,'Offset: ' + str(np.round(SP[-1]-PV[-1],2)))\n",
    "    plt.text(400,30,r'$K_c$: ' + str(np.round(Kc,0)))  \n",
    "    plt.legend(loc='best')\n",
    "    plt.subplot(2,2,2)\n",
    "    plt.plot(t,P,'g.-',linewidth=2,label=r'Proportional = $K_c \\; e(t)$')\n",
    "    plt.legend(loc='best')\n",
    "    plt.subplot(2,2,3)\n",
    "    plt.plot(t,e,'m--',linewidth=2,label='Error (e=SP-PV)')\n",
    "    plt.ylabel(r'$\\Delta T$ $(^oC)$')\n",
    "    plt.legend(loc='best')\n",
    "    plt.xlabel('time (sec)')\n",
    "    plt.subplot(2,2,4)\n",
    "    plt.plot(t,OP,'b--',linewidth=2,label='Heater (OP)')\n",
    "    plt.legend(loc='best')\n",
    "    plt.xlabel('time (sec)')\n",
    "\n",
    "Kc_slide = wg.FloatSlider(value=2.0,min=0.0,max=15.0,step=0.1)\n",
    "wg.interact(pidPlot, Kc=Kc_slide)\n",
    "print('P-only Simulator: Adjust Kc and Calculate Offset')"
   ]
  },
  {
   "cell_type": "code",
   "execution_count": null,
   "metadata": {},
   "outputs": [],
   "source": []
  }
 ],
 "metadata": {
  "kernelspec": {
   "display_name": "Python 3",
   "language": "python",
   "name": "python3"
  },
  "language_info": {
   "codemirror_mode": {
    "name": "ipython",
    "version": 3
   },
   "file_extension": ".py",
   "mimetype": "text/x-python",
   "name": "python",
   "nbconvert_exporter": "python",
   "pygments_lexer": "ipython3",
   "version": "3.7.8"
  }
 },
 "nbformat": 4,
 "nbformat_minor": 4
}
